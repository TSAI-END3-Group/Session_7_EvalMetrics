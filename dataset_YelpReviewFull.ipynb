{
 "cells": [
  {
   "cell_type": "markdown",
   "id": "aa56ae5c",
   "metadata": {},
   "source": [
    "### This is about text classification of the Yelp Review https://pytorch.org/text/stable/datasets.html#yelpreviewfull\n",
    "####  number of classes=5\n",
    "####  number of  training samples=650000\n",
    "####  number of test samples=50000\n"
   ]
  },
  {
   "cell_type": "code",
   "execution_count": 1,
   "id": "e7108e58",
   "metadata": {},
   "outputs": [],
   "source": [
    "import torch\n",
    "from torchtext.datasets import YelpReviewFull\n",
    "import numpy as np\n",
    "train_iter = YelpReviewFull(split='train')"
   ]
  },
  {
   "cell_type": "code",
   "execution_count": 2,
   "id": "a09fa749",
   "metadata": {},
   "outputs": [
    {
     "data": {
      "text/plain": [
       "(5,\n",
       " \"dr. goldberg offers everything i look for in a general practitioner.  he's nice and easy to talk to without being patronizing; he's always on time in seeing his patients; he's affiliated with a top-notch hospital (nyu) which my parents have explained to me is very important in case something happens and you need surgery; and you can get referrals to see specialists without having to see him first.  really, what more do you need?  i'm sitting here trying to think of any complaints i have about him, but i'm really drawing a blank.\")"
      ]
     },
     "execution_count": 2,
     "metadata": {},
     "output_type": "execute_result"
    }
   ],
   "source": [
    "next(train_iter)"
   ]
  },
  {
   "cell_type": "code",
   "execution_count": 3,
   "id": "1cceb6bd",
   "metadata": {},
   "outputs": [],
   "source": [
    "from torchtext.data.utils import get_tokenizer\n",
    "from torchtext.vocab import build_vocab_from_iterator"
   ]
  },
  {
   "cell_type": "code",
   "execution_count": 4,
   "id": "5d98c6e0",
   "metadata": {},
   "outputs": [],
   "source": [
    "tokenizer = get_tokenizer('basic_english')\n",
    "train_iter = YelpReviewFull(split='train')\n"
   ]
  },
  {
   "cell_type": "code",
   "execution_count": 5,
   "id": "1fadb464",
   "metadata": {},
   "outputs": [],
   "source": [
    "def yield_tokens(data_iter):\n",
    "    for _,text in data_iter:\n",
    "        yield tokenizer(text)\n"
   ]
  },
  {
   "cell_type": "code",
   "execution_count": 6,
   "id": "6a482eab",
   "metadata": {},
   "outputs": [],
   "source": [
    "## this returns an object of type torchtext.vocab.vocab.Vocab\n",
    "vocab = build_vocab_from_iterator(yield_tokens(train_iter), specials=[\"<unk>\"])\n"
   ]
  },
  {
   "cell_type": "code",
   "execution_count": 7,
   "id": "3dfbb465",
   "metadata": {},
   "outputs": [],
   "source": [
    "vocab.set_default_index(vocab[\"<unk>\"])"
   ]
  },
  {
   "cell_type": "code",
   "execution_count": 8,
   "id": "9f4568f3",
   "metadata": {},
   "outputs": [
    {
     "data": {
      "text/plain": [
       "[125, 447398]"
      ]
     },
     "execution_count": 8,
     "metadata": {},
     "output_type": "execute_result"
    }
   ],
   "source": [
    "vocab(['her','rohit'])"
   ]
  },
  {
   "cell_type": "code",
   "execution_count": 9,
   "id": "58b7b85d",
   "metadata": {},
   "outputs": [],
   "source": [
    "## define the two functions to process the text and the labels\n",
    "text_pipeline = lambda x: vocab(tokenizer(x))\n",
    "label_pipeline=lambda x: int(x)-1\n"
   ]
  },
  {
   "cell_type": "code",
   "execution_count": 10,
   "id": "815b4a82",
   "metadata": {},
   "outputs": [
    {
     "data": {
      "text/plain": [
       "[48, 14, 2, 68, 1985]"
      ]
     },
     "execution_count": 10,
     "metadata": {},
     "output_type": "execute_result"
    }
   ],
   "source": [
    "text_pipeline('here is the an example')"
   ]
  },
  {
   "cell_type": "code",
   "execution_count": 11,
   "id": "f6df0533",
   "metadata": {},
   "outputs": [
    {
     "data": {
      "text/plain": [
       "2"
      ]
     },
     "execution_count": 11,
     "metadata": {},
     "output_type": "execute_result"
    }
   ],
   "source": [
    "label_pipeline(3)"
   ]
  },
  {
   "cell_type": "code",
   "execution_count": 12,
   "id": "e3a9edc5",
   "metadata": {},
   "outputs": [],
   "source": [
    "from torch.utils.data import DataLoader\n",
    "device = torch.device(\"cuda\" if torch.cuda.is_available() else \"cpu\")\n",
    "\n",
    "def collate_batch(batch):\n",
    "    label_list, text_list, offsets = [], [], [0]\n",
    "    for (_label, _text) in batch:\n",
    "         label_list.append(label_pipeline(_label))\n",
    "         processed_text = torch.tensor(text_pipeline(_text), dtype=torch.int64)\n",
    "         text_list.append(processed_text)\n",
    "         offsets.append(processed_text.size(0))\n",
    "    label_list = torch.tensor(label_list, dtype=torch.int64)\n",
    "    offsets = torch.tensor(offsets[:-1]).cumsum(dim=0)\n",
    "    text_list = torch.cat(text_list)\n",
    "    return label_list.to(device), text_list.to(device), offsets.to(device)\n",
    "\n",
    "train_iter = YelpReviewFull(split='train')\n",
    "dataloader = DataLoader(train_iter, batch_size=8, shuffle=False,collate_fn=collate_batch)\n"
   ]
  },
  {
   "cell_type": "code",
   "execution_count": 13,
   "id": "6f333b27",
   "metadata": {},
   "outputs": [],
   "source": [
    "tt=next(iter(dataloader))"
   ]
  },
  {
   "cell_type": "code",
   "execution_count": 14,
   "id": "5780b189",
   "metadata": {},
   "outputs": [
    {
     "data": {
      "text/plain": [
       "(tensor([4, 1, 3, 3, 0, 4, 4, 0], device='cuda:0'),\n",
       " tensor([ 1042,     1, 42282,  ...,  2850,  1240,    16], device='cuda:0'),\n",
       " tensor([  0, 112, 253, 365, 422, 660, 728, 801], device='cuda:0'))"
      ]
     },
     "execution_count": 14,
     "metadata": {},
     "output_type": "execute_result"
    }
   ],
   "source": [
    "tt"
   ]
  },
  {
   "cell_type": "code",
   "execution_count": 15,
   "id": "5c911b79",
   "metadata": {},
   "outputs": [],
   "source": [
    "from torch import nn\n",
    "\n",
    "class TextClassificationModel(nn.Module):\n",
    "\n",
    "    def __init__(self, vocab_size, embed_dim, num_class):\n",
    "        super(TextClassificationModel, self).__init__()\n",
    "        self.embedding = nn.EmbeddingBag(vocab_size, embed_dim, sparse=True)\n",
    "        self.fc = nn.Linear(embed_dim, num_class)\n",
    "        self.init_weights()\n",
    "\n",
    "    def init_weights(self):\n",
    "        initrange = 0.5\n",
    "        self.embedding.weight.data.uniform_(-initrange, initrange)\n",
    "        self.fc.weight.data.uniform_(-initrange, initrange)\n",
    "        self.fc.bias.data.zero_()\n",
    "\n",
    "    def forward(self, text, offsets):\n",
    "        embedded = self.embedding(text, offsets)\n",
    "        return self.fc(embedded)\n"
   ]
  },
  {
   "cell_type": "code",
   "execution_count": 16,
   "id": "de9fa2d9",
   "metadata": {},
   "outputs": [],
   "source": [
    "import time\n",
    "\n",
    "def train(dataloader):\n",
    "    ##put the model in training mode\n",
    "    model.train()\n",
    "    total_acc, total_count = 0, 0\n",
    "    log_interval = 500\n",
    "    start_time = time.time()\n",
    "\n",
    "    ##since the dataloadeer is using a collate_batch function it is giving our 3 outputs..\n",
    "    ##label, text (in the form of words) and the offsets for identifying the sentence boudary\n",
    "    for idx, (label, text, offsets) in enumerate(dataloader):\n",
    "        optimizer.zero_grad()\n",
    "        predicted_label = model(text, offsets)\n",
    "        ##loss calculation criteria\n",
    "        loss = criterion(predicted_label, label)\n",
    "        ##backprop\n",
    "        loss.backward()\n",
    "        ## instead of doing the batch norm it is doing a clipping function..this is mostly to save from exploding gradient issue\n",
    "        torch.nn.utils.clip_grad_norm_(model.parameters(), 0.1)\n",
    "        optimizer.step()\n",
    "        total_acc += (predicted_label.argmax(1) == label).sum().item()\n",
    "        total_count += label.size(0)\n",
    "        if idx % log_interval == 0 and idx > 0:\n",
    "            elapsed = time.time() - start_time\n",
    "            print('| epoch {:3d} | {:5d}/{:5d} batches '\n",
    "                  '| accuracy {:8.3f}'.format(epoch, idx, len(dataloader),\n",
    "                                              total_acc/total_count))\n",
    "            total_acc, total_count = 0, 0\n",
    "            start_time = time.time()\n",
    "\n",
    "def evaluate(dataloader):\n",
    "    ##put the model in inference mode\n",
    "    model.eval()\n",
    "    total_acc, total_count = 0, 0\n",
    "\n",
    "    with torch.no_grad():\n",
    "        for idx, (label, text, offsets) in enumerate(dataloader):\n",
    "            predicted_label = model(text, offsets)\n",
    "            loss = criterion(predicted_label, label)\n",
    "            total_acc += (predicted_label.argmax(1) == label).sum().item()\n",
    "            total_count += label.size(0)\n",
    "    return total_acc/total_count"
   ]
  },
  {
   "cell_type": "code",
   "execution_count": 17,
   "id": "94b06c9c",
   "metadata": {},
   "outputs": [],
   "source": [
    "from torch.utils.data.dataset import random_split\n",
    "from torchtext.data.functional import to_map_style_dataset\n",
    "# Hyperparameters\n",
    "EPOCHS = 10 # epoch\n",
    "LR = 5  # learning rate\n",
    "BATCH_SIZE = 64 # batch size for training\n",
    "vocab_size=len(vocab)\n",
    "emsize=64\n",
    "num_class=len(set([label for (label, text) in train_iter]))\n",
    "\n",
    "\n",
    "model = TextClassificationModel(vocab_size, emsize, num_class).to(device)\n",
    "criterion = torch.nn.CrossEntropyLoss()\n",
    "optimizer = torch.optim.SGD(model.parameters(), lr=LR)\n",
    "scheduler = torch.optim.lr_scheduler.StepLR(optimizer, 1.0, gamma=0.1)\n",
    "total_accu = None\n",
    "train_iter, test_iter = YelpReviewFull()\n",
    "train_dataset = to_map_style_dataset(train_iter)\n",
    "test_dataset = to_map_style_dataset(test_iter)\n",
    "num_train = int(len(train_dataset) * 0.95)\n",
    "split_train_, split_valid_ = \\\n",
    "    random_split(train_dataset, [num_train, len(train_dataset) - num_train])\n"
   ]
  },
  {
   "cell_type": "code",
   "execution_count": 18,
   "id": "2c85f613",
   "metadata": {},
   "outputs": [],
   "source": [
    "train_dataloader = DataLoader(split_train_, batch_size=BATCH_SIZE,\n",
    "                              shuffle=True, collate_fn=collate_batch)\n",
    "valid_dataloader = DataLoader(split_valid_, batch_size=BATCH_SIZE,\n",
    "                              shuffle=True, collate_fn=collate_batch)\n",
    "test_dataloader = DataLoader(test_dataset, batch_size=BATCH_SIZE,\n",
    "                             shuffle=True, collate_fn=collate_batch)\n"
   ]
  },
  {
   "cell_type": "markdown",
   "id": "01bc7512",
   "metadata": {},
   "source": [
    "As per the question we need to achieve the accuracy of 20% (as the number of the classes=5) +.50*20=30%\n"
   ]
  },
  {
   "cell_type": "code",
   "execution_count": 19,
   "id": "1e29f7ad",
   "metadata": {},
   "outputs": [
    {
     "name": "stdout",
     "output_type": "stream",
     "text": [
      "| epoch   1 |   500/ 9649 batches | accuracy    0.391\n",
      "| epoch   1 |  1000/ 9649 batches | accuracy    0.486\n",
      "| epoch   1 |  1500/ 9649 batches | accuracy    0.509\n",
      "| epoch   1 |  2000/ 9649 batches | accuracy    0.527\n",
      "| epoch   1 |  2500/ 9649 batches | accuracy    0.537\n",
      "| epoch   1 |  3000/ 9649 batches | accuracy    0.542\n",
      "| epoch   1 |  3500/ 9649 batches | accuracy    0.549\n",
      "| epoch   1 |  4000/ 9649 batches | accuracy    0.551\n",
      "| epoch   1 |  4500/ 9649 batches | accuracy    0.551\n",
      "| epoch   1 |  5000/ 9649 batches | accuracy    0.552\n",
      "| epoch   1 |  5500/ 9649 batches | accuracy    0.556\n",
      "| epoch   1 |  6000/ 9649 batches | accuracy    0.561\n",
      "| epoch   1 |  6500/ 9649 batches | accuracy    0.563\n",
      "| epoch   1 |  7000/ 9649 batches | accuracy    0.563\n",
      "| epoch   1 |  7500/ 9649 batches | accuracy    0.565\n",
      "| epoch   1 |  8000/ 9649 batches | accuracy    0.569\n",
      "| epoch   1 |  8500/ 9649 batches | accuracy    0.566\n",
      "| epoch   1 |  9000/ 9649 batches | accuracy    0.572\n",
      "| epoch   1 |  9500/ 9649 batches | accuracy    0.571\n",
      "-----------------------------------------------------------\n",
      "| end of epoch   1 | time: 57.89s | valid accuracy    0.544 \n",
      "-----------------------------------------------------------\n",
      "| epoch   2 |   500/ 9649 batches | accuracy    0.576\n",
      "| epoch   2 |  1000/ 9649 batches | accuracy    0.570\n",
      "| epoch   2 |  1500/ 9649 batches | accuracy    0.574\n",
      "| epoch   2 |  2000/ 9649 batches | accuracy    0.573\n",
      "| epoch   2 |  2500/ 9649 batches | accuracy    0.581\n",
      "| epoch   2 |  3000/ 9649 batches | accuracy    0.578\n",
      "| epoch   2 |  3500/ 9649 batches | accuracy    0.574\n",
      "| epoch   2 |  4000/ 9649 batches | accuracy    0.571\n",
      "| epoch   2 |  4500/ 9649 batches | accuracy    0.578\n",
      "| epoch   2 |  5000/ 9649 batches | accuracy    0.576\n",
      "| epoch   2 |  5500/ 9649 batches | accuracy    0.579\n",
      "| epoch   2 |  6000/ 9649 batches | accuracy    0.580\n",
      "| epoch   2 |  6500/ 9649 batches | accuracy    0.584\n",
      "| epoch   2 |  7000/ 9649 batches | accuracy    0.575\n",
      "| epoch   2 |  7500/ 9649 batches | accuracy    0.582\n",
      "| epoch   2 |  8000/ 9649 batches | accuracy    0.575\n",
      "| epoch   2 |  8500/ 9649 batches | accuracy    0.578\n",
      "| epoch   2 |  9000/ 9649 batches | accuracy    0.580\n",
      "| epoch   2 |  9500/ 9649 batches | accuracy    0.582\n",
      "-----------------------------------------------------------\n",
      "| end of epoch   2 | time: 58.27s | valid accuracy    0.592 \n",
      "-----------------------------------------------------------\n",
      "| epoch   3 |   500/ 9649 batches | accuracy    0.585\n",
      "| epoch   3 |  1000/ 9649 batches | accuracy    0.584\n",
      "| epoch   3 |  1500/ 9649 batches | accuracy    0.585\n",
      "| epoch   3 |  2000/ 9649 batches | accuracy    0.582\n",
      "| epoch   3 |  2500/ 9649 batches | accuracy    0.583\n",
      "| epoch   3 |  3000/ 9649 batches | accuracy    0.586\n",
      "| epoch   3 |  3500/ 9649 batches | accuracy    0.583\n",
      "| epoch   3 |  4000/ 9649 batches | accuracy    0.582\n",
      "| epoch   3 |  4500/ 9649 batches | accuracy    0.584\n",
      "| epoch   3 |  5000/ 9649 batches | accuracy    0.587\n",
      "| epoch   3 |  5500/ 9649 batches | accuracy    0.586\n",
      "| epoch   3 |  6000/ 9649 batches | accuracy    0.585\n",
      "| epoch   3 |  6500/ 9649 batches | accuracy    0.585\n",
      "| epoch   3 |  7000/ 9649 batches | accuracy    0.585\n",
      "| epoch   3 |  7500/ 9649 batches | accuracy    0.588\n",
      "| epoch   3 |  8000/ 9649 batches | accuracy    0.586\n",
      "| epoch   3 |  8500/ 9649 batches | accuracy    0.590\n",
      "| epoch   3 |  9000/ 9649 batches | accuracy    0.586\n",
      "| epoch   3 |  9500/ 9649 batches | accuracy    0.586\n",
      "-----------------------------------------------------------\n",
      "| end of epoch   3 | time: 57.62s | valid accuracy    0.583 \n",
      "-----------------------------------------------------------\n",
      "| epoch   4 |   500/ 9649 batches | accuracy    0.602\n",
      "| epoch   4 |  1000/ 9649 batches | accuracy    0.607\n",
      "| epoch   4 |  1500/ 9649 batches | accuracy    0.609\n",
      "| epoch   4 |  2000/ 9649 batches | accuracy    0.609\n",
      "| epoch   4 |  2500/ 9649 batches | accuracy    0.605\n",
      "| epoch   4 |  3000/ 9649 batches | accuracy    0.603\n",
      "| epoch   4 |  3500/ 9649 batches | accuracy    0.601\n",
      "| epoch   4 |  4000/ 9649 batches | accuracy    0.602\n",
      "| epoch   4 |  4500/ 9649 batches | accuracy    0.608\n",
      "| epoch   4 |  5000/ 9649 batches | accuracy    0.606\n",
      "| epoch   4 |  5500/ 9649 batches | accuracy    0.606\n",
      "| epoch   4 |  6000/ 9649 batches | accuracy    0.604\n",
      "| epoch   4 |  6500/ 9649 batches | accuracy    0.610\n",
      "| epoch   4 |  7000/ 9649 batches | accuracy    0.610\n",
      "| epoch   4 |  7500/ 9649 batches | accuracy    0.608\n",
      "| epoch   4 |  8000/ 9649 batches | accuracy    0.607\n",
      "| epoch   4 |  8500/ 9649 batches | accuracy    0.607\n",
      "| epoch   4 |  9000/ 9649 batches | accuracy    0.613\n",
      "| epoch   4 |  9500/ 9649 batches | accuracy    0.606\n",
      "-----------------------------------------------------------\n",
      "| end of epoch   4 | time: 57.88s | valid accuracy    0.598 \n",
      "-----------------------------------------------------------\n",
      "| epoch   5 |   500/ 9649 batches | accuracy    0.613\n",
      "| epoch   5 |  1000/ 9649 batches | accuracy    0.608\n",
      "| epoch   5 |  1500/ 9649 batches | accuracy    0.606\n",
      "| epoch   5 |  2000/ 9649 batches | accuracy    0.609\n",
      "| epoch   5 |  2500/ 9649 batches | accuracy    0.607\n",
      "| epoch   5 |  3000/ 9649 batches | accuracy    0.605\n",
      "| epoch   5 |  3500/ 9649 batches | accuracy    0.607\n",
      "| epoch   5 |  4000/ 9649 batches | accuracy    0.609\n",
      "| epoch   5 |  4500/ 9649 batches | accuracy    0.606\n",
      "| epoch   5 |  5000/ 9649 batches | accuracy    0.601\n",
      "| epoch   5 |  5500/ 9649 batches | accuracy    0.607\n",
      "| epoch   5 |  6000/ 9649 batches | accuracy    0.603\n",
      "| epoch   5 |  6500/ 9649 batches | accuracy    0.607\n",
      "| epoch   5 |  7000/ 9649 batches | accuracy    0.610\n",
      "| epoch   5 |  7500/ 9649 batches | accuracy    0.609\n",
      "| epoch   5 |  8000/ 9649 batches | accuracy    0.604\n",
      "| epoch   5 |  8500/ 9649 batches | accuracy    0.608\n",
      "| epoch   5 |  9000/ 9649 batches | accuracy    0.606\n",
      "| epoch   5 |  9500/ 9649 batches | accuracy    0.612\n",
      "-----------------------------------------------------------\n",
      "| end of epoch   5 | time: 58.32s | valid accuracy    0.599 \n",
      "-----------------------------------------------------------\n",
      "| epoch   6 |   500/ 9649 batches | accuracy    0.608\n",
      "| epoch   6 |  1000/ 9649 batches | accuracy    0.609\n",
      "| epoch   6 |  1500/ 9649 batches | accuracy    0.605\n",
      "| epoch   6 |  2000/ 9649 batches | accuracy    0.607\n",
      "| epoch   6 |  2500/ 9649 batches | accuracy    0.608\n",
      "| epoch   6 |  3000/ 9649 batches | accuracy    0.609\n",
      "| epoch   6 |  3500/ 9649 batches | accuracy    0.611\n",
      "| epoch   6 |  4000/ 9649 batches | accuracy    0.608\n",
      "| epoch   6 |  4500/ 9649 batches | accuracy    0.606\n",
      "| epoch   6 |  5000/ 9649 batches | accuracy    0.608\n",
      "| epoch   6 |  5500/ 9649 batches | accuracy    0.606\n",
      "| epoch   6 |  6000/ 9649 batches | accuracy    0.610\n",
      "| epoch   6 |  6500/ 9649 batches | accuracy    0.610\n",
      "| epoch   6 |  7000/ 9649 batches | accuracy    0.609\n",
      "| epoch   6 |  7500/ 9649 batches | accuracy    0.608\n",
      "| epoch   6 |  8000/ 9649 batches | accuracy    0.609\n",
      "| epoch   6 |  8500/ 9649 batches | accuracy    0.612\n",
      "| epoch   6 |  9000/ 9649 batches | accuracy    0.608\n",
      "| epoch   6 |  9500/ 9649 batches | accuracy    0.605\n",
      "-----------------------------------------------------------\n",
      "| end of epoch   6 | time: 57.77s | valid accuracy    0.600 \n",
      "-----------------------------------------------------------\n",
      "| epoch   7 |   500/ 9649 batches | accuracy    0.615\n",
      "| epoch   7 |  1000/ 9649 batches | accuracy    0.610\n",
      "| epoch   7 |  1500/ 9649 batches | accuracy    0.609\n",
      "| epoch   7 |  2000/ 9649 batches | accuracy    0.613\n",
      "| epoch   7 |  2500/ 9649 batches | accuracy    0.608\n",
      "| epoch   7 |  3000/ 9649 batches | accuracy    0.609\n",
      "| epoch   7 |  3500/ 9649 batches | accuracy    0.609\n",
      "| epoch   7 |  4000/ 9649 batches | accuracy    0.609\n",
      "| epoch   7 |  4500/ 9649 batches | accuracy    0.609\n",
      "| epoch   7 |  5000/ 9649 batches | accuracy    0.609\n",
      "| epoch   7 |  5500/ 9649 batches | accuracy    0.607\n",
      "| epoch   7 |  6000/ 9649 batches | accuracy    0.609\n",
      "| epoch   7 |  6500/ 9649 batches | accuracy    0.608\n",
      "| epoch   7 |  7000/ 9649 batches | accuracy    0.607\n",
      "| epoch   7 |  7500/ 9649 batches | accuracy    0.610\n",
      "| epoch   7 |  8000/ 9649 batches | accuracy    0.609\n",
      "| epoch   7 |  8500/ 9649 batches | accuracy    0.602\n",
      "| epoch   7 |  9000/ 9649 batches | accuracy    0.614\n"
     ]
    },
    {
     "name": "stdout",
     "output_type": "stream",
     "text": [
      "| epoch   7 |  9500/ 9649 batches | accuracy    0.609\n",
      "-----------------------------------------------------------\n",
      "| end of epoch   7 | time: 57.89s | valid accuracy    0.600 \n",
      "-----------------------------------------------------------\n",
      "| epoch   8 |   500/ 9649 batches | accuracy    0.614\n",
      "| epoch   8 |  1000/ 9649 batches | accuracy    0.610\n",
      "| epoch   8 |  1500/ 9649 batches | accuracy    0.610\n",
      "| epoch   8 |  2000/ 9649 batches | accuracy    0.613\n",
      "| epoch   8 |  2500/ 9649 batches | accuracy    0.609\n",
      "| epoch   8 |  3000/ 9649 batches | accuracy    0.611\n",
      "| epoch   8 |  3500/ 9649 batches | accuracy    0.609\n",
      "| epoch   8 |  4000/ 9649 batches | accuracy    0.606\n",
      "| epoch   8 |  4500/ 9649 batches | accuracy    0.610\n",
      "| epoch   8 |  5000/ 9649 batches | accuracy    0.612\n",
      "| epoch   8 |  5500/ 9649 batches | accuracy    0.608\n",
      "| epoch   8 |  6000/ 9649 batches | accuracy    0.604\n",
      "| epoch   8 |  6500/ 9649 batches | accuracy    0.611\n",
      "| epoch   8 |  7000/ 9649 batches | accuracy    0.609\n",
      "| epoch   8 |  7500/ 9649 batches | accuracy    0.611\n",
      "| epoch   8 |  8000/ 9649 batches | accuracy    0.610\n",
      "| epoch   8 |  8500/ 9649 batches | accuracy    0.609\n",
      "| epoch   8 |  9000/ 9649 batches | accuracy    0.608\n",
      "| epoch   8 |  9500/ 9649 batches | accuracy    0.607\n",
      "-----------------------------------------------------------\n",
      "| end of epoch   8 | time: 58.39s | valid accuracy    0.600 \n",
      "-----------------------------------------------------------\n",
      "| epoch   9 |   500/ 9649 batches | accuracy    0.615\n",
      "| epoch   9 |  1000/ 9649 batches | accuracy    0.608\n",
      "| epoch   9 |  1500/ 9649 batches | accuracy    0.615\n",
      "| epoch   9 |  2000/ 9649 batches | accuracy    0.609\n",
      "| epoch   9 |  2500/ 9649 batches | accuracy    0.611\n",
      "| epoch   9 |  3000/ 9649 batches | accuracy    0.607\n",
      "| epoch   9 |  3500/ 9649 batches | accuracy    0.608\n",
      "| epoch   9 |  4000/ 9649 batches | accuracy    0.606\n",
      "| epoch   9 |  4500/ 9649 batches | accuracy    0.606\n",
      "| epoch   9 |  5000/ 9649 batches | accuracy    0.607\n",
      "| epoch   9 |  5500/ 9649 batches | accuracy    0.613\n",
      "| epoch   9 |  6000/ 9649 batches | accuracy    0.610\n",
      "| epoch   9 |  6500/ 9649 batches | accuracy    0.612\n",
      "| epoch   9 |  7000/ 9649 batches | accuracy    0.604\n",
      "| epoch   9 |  7500/ 9649 batches | accuracy    0.609\n",
      "| epoch   9 |  8000/ 9649 batches | accuracy    0.614\n",
      "| epoch   9 |  8500/ 9649 batches | accuracy    0.610\n",
      "| epoch   9 |  9000/ 9649 batches | accuracy    0.607\n",
      "| epoch   9 |  9500/ 9649 batches | accuracy    0.614\n",
      "-----------------------------------------------------------\n",
      "| end of epoch   9 | time: 57.93s | valid accuracy    0.601 \n",
      "-----------------------------------------------------------\n",
      "| epoch  10 |   500/ 9649 batches | accuracy    0.611\n",
      "| epoch  10 |  1000/ 9649 batches | accuracy    0.607\n",
      "| epoch  10 |  1500/ 9649 batches | accuracy    0.613\n",
      "| epoch  10 |  2000/ 9649 batches | accuracy    0.607\n",
      "| epoch  10 |  2500/ 9649 batches | accuracy    0.614\n",
      "| epoch  10 |  3000/ 9649 batches | accuracy    0.618\n",
      "| epoch  10 |  3500/ 9649 batches | accuracy    0.608\n",
      "| epoch  10 |  4000/ 9649 batches | accuracy    0.610\n",
      "| epoch  10 |  4500/ 9649 batches | accuracy    0.606\n",
      "| epoch  10 |  5000/ 9649 batches | accuracy    0.608\n",
      "| epoch  10 |  5500/ 9649 batches | accuracy    0.613\n",
      "| epoch  10 |  6000/ 9649 batches | accuracy    0.612\n",
      "| epoch  10 |  6500/ 9649 batches | accuracy    0.616\n",
      "| epoch  10 |  7000/ 9649 batches | accuracy    0.611\n",
      "| epoch  10 |  7500/ 9649 batches | accuracy    0.611\n",
      "| epoch  10 |  8000/ 9649 batches | accuracy    0.609\n",
      "| epoch  10 |  8500/ 9649 batches | accuracy    0.614\n",
      "| epoch  10 |  9000/ 9649 batches | accuracy    0.606\n",
      "| epoch  10 |  9500/ 9649 batches | accuracy    0.608\n",
      "-----------------------------------------------------------\n",
      "| end of epoch  10 | time: 57.87s | valid accuracy    0.601 \n",
      "-----------------------------------------------------------\n"
     ]
    }
   ],
   "source": [
    "for epoch in range(1, EPOCHS + 1):\n",
    "    epoch_start_time = time.time()\n",
    "    train(train_dataloader)\n",
    "    accu_val = evaluate(valid_dataloader)\n",
    "    if total_accu is not None and total_accu > accu_val:\n",
    "      scheduler.step()\n",
    "    else:\n",
    "       total_accu = accu_val\n",
    "    print('-' * 59)\n",
    "    print('| end of epoch {:3d} | time: {:5.2f}s | '\n",
    "          'valid accuracy {:8.3f} '.format(epoch,\n",
    "                                           time.time() - epoch_start_time,\n",
    "                                           accu_val))\n",
    "    print('-' * 59)"
   ]
  },
  {
   "cell_type": "code",
   "execution_count": 21,
   "id": "31547ddc",
   "metadata": {},
   "outputs": [
    {
     "name": "stdout",
     "output_type": "stream",
     "text": [
      "Checking the results of test dataset.\n",
      "test accuracy    0.599\n"
     ]
    }
   ],
   "source": [
    "print('Checking the results of test dataset.')\n",
    "accu_test = evaluate(test_dataloader)\n",
    "print('test accuracy {:8.3f}'.format(accu_test))"
   ]
  },
  {
   "cell_type": "markdown",
   "id": "98fc6b71",
   "metadata": {},
   "source": [
    "### Here we are building the data which can be used to determine the Accuracy, Precision, Recall & F1 score\n",
    "This is a multiclass classification"
   ]
  },
  {
   "cell_type": "code",
   "execution_count": 25,
   "id": "0d3e5251",
   "metadata": {},
   "outputs": [],
   "source": [
    "model.eval()\n",
    "predictedLabels=[]\n",
    "trueLabels=[]\n",
    "with torch.no_grad():\n",
    "    for idx, (label, text, offsets) in enumerate(test_dataloader):\n",
    "        predicted_label = model(text, offsets)\n",
    "        predictedLabels.append(predicted_label.argmax(1))\n",
    "        trueLabels.append(label)\n",
    "        "
   ]
  },
  {
   "cell_type": "code",
   "execution_count": 28,
   "id": "21ce8658",
   "metadata": {},
   "outputs": [],
   "source": [
    "## we have got a list of batches of results so merging them together in a single list\n",
    "\n",
    "import itertools\n",
    "flatTrueLabels=list(itertools.chain.from_iterable(trueLabels))\n",
    "flatPredictedLabels=list(itertools.chain.from_iterable(predictedLabels))\n",
    "\n",
    "#bringing everything to cpu as we are planning to use the sklearn method to calculate the metrics. \n",
    "#The data should be on the cpu\n",
    "flatPredictedLabels=torch.stack(flatPredictedLabels).cpu()\n",
    "flatTrueLabels=torch.stack(flatTrueLabels).cpu()"
   ]
  },
  {
   "cell_type": "code",
   "execution_count": 29,
   "id": "74f1af58",
   "metadata": {},
   "outputs": [],
   "source": [
    "from sklearn.metrics import precision_recall_fscore_support\n",
    "(prec,recall,f1,_)=precision_recall_fscore_support(flatTrueLabels, flatPredictedLabels, average='macro', zero_division=0)"
   ]
  },
  {
   "cell_type": "code",
   "execution_count": 30,
   "id": "64772844",
   "metadata": {},
   "outputs": [
    {
     "name": "stdout",
     "output_type": "stream",
     "text": [
      "Precision= 0.5971956406331864 Recall= 0.59948 F1= 0.5980405353749079\n"
     ]
    }
   ],
   "source": [
    "print(\"Precision=\",prec,\"Recall=\",recall,\"F1=\",f1)"
   ]
  }
 ],
 "metadata": {
  "kernelspec": {
   "display_name": "Python 3",
   "language": "python",
   "name": "python3"
  },
  "language_info": {
   "codemirror_mode": {
    "name": "ipython",
    "version": 3
   },
   "file_extension": ".py",
   "mimetype": "text/x-python",
   "name": "python",
   "nbconvert_exporter": "python",
   "pygments_lexer": "ipython3",
   "version": "3.7.1"
  }
 },
 "nbformat": 4,
 "nbformat_minor": 5
}
