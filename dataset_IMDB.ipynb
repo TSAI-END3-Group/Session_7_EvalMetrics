{
 "cells": [
  {
   "cell_type": "markdown",
   "id": "39401713",
   "metadata": {},
   "source": [
    "#### We are using the IMDB dataset that is defined at https://pytorch.org/text/stable/datasets.html#imdb to perform the binary classification\n",
    "\n",
    "Number of classes =2\n",
    "\n",
    "Number of training samples=25000\n",
    "\n",
    "Number of testing samples=25000"
   ]
  },
  {
   "cell_type": "code",
   "execution_count": 1,
   "id": "a3cc0428",
   "metadata": {},
   "outputs": [],
   "source": [
    "import torch\n",
    "from torchtext.datasets import IMDB\n",
    "import numpy as np\n",
    "\n",
    "train_iter = IMDB(split='train')"
   ]
  },
  {
   "cell_type": "code",
   "execution_count": 2,
   "id": "13be3d70",
   "metadata": {},
   "outputs": [
    {
     "data": {
      "text/plain": [
       "('neg',\n",
       " 'I rented I AM CURIOUS-YELLOW from my video store because of all the controversy that surrounded it when it was first released in 1967. I also heard that at first it was seized by U.S. customs if it ever tried to enter this country, therefore being a fan of films considered \"controversial\" I really had to see this for myself.<br /><br />The plot is centered around a young Swedish drama student named Lena who wants to learn everything she can about life. In particular she wants to focus her attentions to making some sort of documentary on what the average Swede thought about certain political issues such as the Vietnam War and race issues in the United States. In between asking politicians and ordinary denizens of Stockholm about their opinions on politics, she has sex with her drama teacher, classmates, and married men.<br /><br />What kills me about I AM CURIOUS-YELLOW is that 40 years ago, this was considered pornographic. Really, the sex and nudity scenes are few and far between, even then it\\'s not shot like some cheaply made porno. While my countrymen mind find it shocking, in reality sex and nudity are a major staple in Swedish cinema. Even Ingmar Bergman, arguably their answer to good old boy John Ford, had sex scenes in his films.<br /><br />I do commend the filmmakers for the fact that any sex shown in the film is shown for artistic purposes rather than just to shock people and make money to be shown in pornographic theaters in America. I AM CURIOUS-YELLOW is a good film for anyone wanting to study the meat and potatoes (no pun intended) of Swedish cinema. But really, this film doesn\\'t have much of a plot.')"
      ]
     },
     "execution_count": 2,
     "metadata": {},
     "output_type": "execute_result"
    }
   ],
   "source": [
    "next(train_iter)"
   ]
  },
  {
   "cell_type": "code",
   "execution_count": 3,
   "id": "5c308504",
   "metadata": {},
   "outputs": [],
   "source": [
    "from torchtext.data.utils import get_tokenizer\n",
    "from torchtext.vocab import build_vocab_from_iterator"
   ]
  },
  {
   "cell_type": "code",
   "execution_count": 4,
   "id": "182f68bd",
   "metadata": {},
   "outputs": [],
   "source": [
    "tokenizer = get_tokenizer('basic_english')\n",
    "train_iter = IMDB(split='train')\n"
   ]
  },
  {
   "cell_type": "code",
   "execution_count": 5,
   "id": "6b7c2a20",
   "metadata": {},
   "outputs": [],
   "source": [
    "#build_vocab_from_iterator"
   ]
  },
  {
   "cell_type": "code",
   "execution_count": 6,
   "id": "d838815c",
   "metadata": {},
   "outputs": [],
   "source": [
    "def yield_tokens(data_iter):\n",
    "    for _,text in data_iter:\n",
    "        yield tokenizer(text)\n"
   ]
  },
  {
   "cell_type": "code",
   "execution_count": 7,
   "id": "ea31e8d4",
   "metadata": {},
   "outputs": [
    {
     "data": {
      "text/plain": [
       "<generator object yield_tokens at 0x7f17266a82a0>"
      ]
     },
     "execution_count": 7,
     "metadata": {},
     "output_type": "execute_result"
    }
   ],
   "source": [
    "yield_tokens(train_iter)"
   ]
  },
  {
   "cell_type": "code",
   "execution_count": 8,
   "id": "1a107517",
   "metadata": {},
   "outputs": [],
   "source": [
    "## this returns an object of type torchtext.vocab.vocab.Vocab\n",
    "vocab = build_vocab_from_iterator(yield_tokens(train_iter), specials=[\"<unk>\"])\n"
   ]
  },
  {
   "cell_type": "code",
   "execution_count": 9,
   "id": "0b2f3689",
   "metadata": {},
   "outputs": [],
   "source": [
    "vocab.set_default_index(vocab[\"<unk>\"])"
   ]
  },
  {
   "cell_type": "code",
   "execution_count": 10,
   "id": "c4a23ac8",
   "metadata": {},
   "outputs": [
    {
     "data": {
      "text/plain": [
       "[46, 88425]"
      ]
     },
     "execution_count": 10,
     "metadata": {},
     "output_type": "execute_result"
    }
   ],
   "source": [
    "vocab(['her','rohit'])"
   ]
  },
  {
   "cell_type": "code",
   "execution_count": 11,
   "id": "b83b4c1f",
   "metadata": {},
   "outputs": [],
   "source": [
    "## define the two functions to process the text and the labels\n",
    "text_pipeline = lambda x: vocab(tokenizer(x))\n",
    "label_pipeline=lambda x: 0 if x=='neg' else 1\n"
   ]
  },
  {
   "cell_type": "code",
   "execution_count": 12,
   "id": "37dd28a5",
   "metadata": {},
   "outputs": [
    {
     "data": {
      "text/plain": [
       "[131, 9, 1, 40, 464]"
      ]
     },
     "execution_count": 12,
     "metadata": {},
     "output_type": "execute_result"
    }
   ],
   "source": [
    "text_pipeline('here is the an example')"
   ]
  },
  {
   "cell_type": "code",
   "execution_count": 13,
   "id": "6fb3f35b",
   "metadata": {},
   "outputs": [
    {
     "data": {
      "text/plain": [
       "1"
      ]
     },
     "execution_count": 13,
     "metadata": {},
     "output_type": "execute_result"
    }
   ],
   "source": [
    "label_pipeline('pos')"
   ]
  },
  {
   "cell_type": "code",
   "execution_count": 14,
   "id": "9b3622a6",
   "metadata": {},
   "outputs": [],
   "source": [
    "from torch.utils.data import DataLoader\n",
    "device = torch.device(\"cuda\" if torch.cuda.is_available() else \"cpu\")\n",
    "\n",
    "def collate_batch(batch):\n",
    "    label_list, text_list, offsets = [], [], [0]\n",
    "    for (_label, _text) in batch:\n",
    "         label_list.append(label_pipeline(_label))\n",
    "         processed_text = torch.tensor(text_pipeline(_text), dtype=torch.int64)\n",
    "         text_list.append(processed_text)\n",
    "         offsets.append(processed_text.size(0))\n",
    "    label_list = torch.tensor(label_list, dtype=torch.int64)\n",
    "    offsets = torch.tensor(offsets[:-1]).cumsum(dim=0)\n",
    "    text_list = torch.cat(text_list)\n",
    "    return label_list.to(device), text_list.to(device), offsets.to(device)\n",
    "\n",
    "train_iter = IMDB(split='train')\n",
    "dataloader = DataLoader(train_iter, batch_size=8, shuffle=False,collate_fn=collate_batch)\n"
   ]
  },
  {
   "cell_type": "code",
   "execution_count": 15,
   "id": "46169c28",
   "metadata": {},
   "outputs": [],
   "source": [
    "tt=next(iter(dataloader))"
   ]
  },
  {
   "cell_type": "code",
   "execution_count": 16,
   "id": "4d387638",
   "metadata": {},
   "outputs": [],
   "source": [
    "from torch import nn\n",
    "\n",
    "class TextClassificationModel(nn.Module):\n",
    "\n",
    "    def __init__(self, vocab_size, embed_dim, num_class):\n",
    "        super(TextClassificationModel, self).__init__()\n",
    "        self.embedding = nn.EmbeddingBag(vocab_size, embed_dim, sparse=True)\n",
    "        self.fc = nn.Linear(embed_dim, num_class)\n",
    "        self.init_weights()\n",
    "\n",
    "    def init_weights(self):\n",
    "        initrange = 0.5\n",
    "        self.embedding.weight.data.uniform_(-initrange, initrange)\n",
    "        self.fc.weight.data.uniform_(-initrange, initrange)\n",
    "        self.fc.bias.data.zero_()\n",
    "\n",
    "    def forward(self, text, offsets):\n",
    "        embedded = self.embedding(text, offsets)\n",
    "        return self.fc(embedded)\n"
   ]
  },
  {
   "cell_type": "code",
   "execution_count": 17,
   "id": "caa02f01",
   "metadata": {},
   "outputs": [],
   "source": [
    "import time\n",
    "\n",
    "def train(dataloader):\n",
    "    ##put the model in training mode\n",
    "    model.train()\n",
    "    total_acc, total_count = 0, 0\n",
    "    log_interval = 500\n",
    "    start_time = time.time()\n",
    "\n",
    "    ##since the dataloadeer is using a collate_batch function it is giving our 3 outputs..\n",
    "    ##label, text (in the form of words) and the offsets for identifying the sentence boudary\n",
    "    for idx, (label, text, offsets) in enumerate(dataloader):\n",
    "        optimizer.zero_grad()\n",
    "        predicted_label = model(text, offsets)\n",
    "        ##loss calculation criteria\n",
    "        loss = criterion(predicted_label, label)\n",
    "        ##backprop\n",
    "        loss.backward()\n",
    "        ## instead of doing the batch norm it is doing a clipping function..this is mostly to save from exploding gradient issue\n",
    "        torch.nn.utils.clip_grad_norm_(model.parameters(), 0.1)\n",
    "        optimizer.step()\n",
    "        total_acc += (predicted_label.argmax(1) == label).sum().item()\n",
    "        total_count += label.size(0)\n",
    "        if idx % log_interval == 0 and idx > 0:\n",
    "            elapsed = time.time() - start_time\n",
    "            print('| epoch {:3d} | {:5d}/{:5d} batches '\n",
    "                  '| accuracy {:8.3f}'.format(epoch, idx, len(dataloader),\n",
    "                                              total_acc/total_count))\n",
    "            total_acc, total_count = 0, 0\n",
    "            start_time = time.time()\n",
    "\n",
    "def evaluate(dataloader):\n",
    "    ##put the model in inference mode\n",
    "    model.eval()\n",
    "    total_acc, total_count = 0, 0\n",
    "\n",
    "    with torch.no_grad():\n",
    "        for idx, (label, text, offsets) in enumerate(dataloader):\n",
    "            predicted_label = model(text, offsets)\n",
    "            loss = criterion(predicted_label, label)\n",
    "            total_acc += (predicted_label.argmax(1) == label).sum().item()\n",
    "            total_count += label.size(0)\n",
    "    return total_acc/total_count"
   ]
  },
  {
   "cell_type": "code",
   "execution_count": 18,
   "id": "5a76ea04",
   "metadata": {},
   "outputs": [],
   "source": [
    "from torch.utils.data.dataset import random_split\n",
    "from torchtext.data.functional import to_map_style_dataset\n",
    "# Hyperparameters\n",
    "EPOCHS = 10 # epoch\n",
    "LR = 5  # learning rate\n",
    "BATCH_SIZE = 64 # batch size for training\n",
    "vocab_size=len(vocab)\n",
    "emsize=64\n",
    "num_class=len(set([label for (label, text) in train_iter]))\n",
    "\n",
    "\n",
    "model = TextClassificationModel(vocab_size, emsize, num_class).to(device)\n",
    "criterion = torch.nn.CrossEntropyLoss()\n",
    "optimizer = torch.optim.SGD(model.parameters(), lr=LR)\n",
    "scheduler = torch.optim.lr_scheduler.StepLR(optimizer, 1.0, gamma=0.1)\n",
    "total_accu = None\n",
    "train_iter, test_iter = IMDB()\n",
    "train_dataset = to_map_style_dataset(train_iter)\n",
    "test_dataset = to_map_style_dataset(test_iter)\n",
    "num_train = int(len(train_dataset) * 0.95)\n",
    "split_train_, split_valid_ = \\\n",
    "    random_split(train_dataset, [num_train, len(train_dataset) - num_train])\n"
   ]
  },
  {
   "cell_type": "code",
   "execution_count": 19,
   "id": "e02df999",
   "metadata": {},
   "outputs": [],
   "source": [
    "train_dataloader = DataLoader(split_train_, batch_size=BATCH_SIZE,\n",
    "                              shuffle=True, collate_fn=collate_batch)\n",
    "valid_dataloader = DataLoader(split_valid_, batch_size=BATCH_SIZE,\n",
    "                              shuffle=True, collate_fn=collate_batch)\n",
    "test_dataloader = DataLoader(test_dataset, batch_size=BATCH_SIZE,\n",
    "                             shuffle=True, collate_fn=collate_batch)\n"
   ]
  },
  {
   "cell_type": "markdown",
   "id": "b433e801",
   "metadata": {},
   "source": [
    "As the number of classes =2 therefore by random it will have an accuracy of 50% ..We need to get a minimum of 50+.5*50=75% accuracy on the testing samples"
   ]
  },
  {
   "cell_type": "code",
   "execution_count": 20,
   "id": "5dfc5cfa",
   "metadata": {},
   "outputs": [
    {
     "name": "stdout",
     "output_type": "stream",
     "text": [
      "-----------------------------------------------------------\n",
      "| end of epoch   1 | time:  3.29s | valid accuracy    0.678 \n",
      "-----------------------------------------------------------\n",
      "-----------------------------------------------------------\n",
      "| end of epoch   2 | time:  3.28s | valid accuracy    0.808 \n",
      "-----------------------------------------------------------\n",
      "-----------------------------------------------------------\n",
      "| end of epoch   3 | time:  3.57s | valid accuracy    0.766 \n",
      "-----------------------------------------------------------\n",
      "-----------------------------------------------------------\n",
      "| end of epoch   4 | time:  3.43s | valid accuracy    0.835 \n",
      "-----------------------------------------------------------\n",
      "-----------------------------------------------------------\n",
      "| end of epoch   5 | time:  3.29s | valid accuracy    0.850 \n",
      "-----------------------------------------------------------\n",
      "-----------------------------------------------------------\n",
      "| end of epoch   6 | time:  3.28s | valid accuracy    0.850 \n",
      "-----------------------------------------------------------\n",
      "-----------------------------------------------------------\n",
      "| end of epoch   7 | time:  3.58s | valid accuracy    0.843 \n",
      "-----------------------------------------------------------\n",
      "-----------------------------------------------------------\n",
      "| end of epoch   8 | time:  3.42s | valid accuracy    0.852 \n",
      "-----------------------------------------------------------\n",
      "-----------------------------------------------------------\n",
      "| end of epoch   9 | time:  3.30s | valid accuracy    0.855 \n",
      "-----------------------------------------------------------\n",
      "-----------------------------------------------------------\n",
      "| end of epoch  10 | time:  3.29s | valid accuracy    0.854 \n",
      "-----------------------------------------------------------\n"
     ]
    }
   ],
   "source": [
    "for epoch in range(1, EPOCHS + 1):\n",
    "    epoch_start_time = time.time()\n",
    "    train(train_dataloader)\n",
    "    accu_val = evaluate(valid_dataloader)\n",
    "    if total_accu is not None and total_accu > accu_val:\n",
    "      scheduler.step()\n",
    "    else:\n",
    "       total_accu = accu_val\n",
    "    print('-' * 59)\n",
    "    print('| end of epoch {:3d} | time: {:5.2f}s | '\n",
    "          'valid accuracy {:8.3f} '.format(epoch,\n",
    "                                           time.time() - epoch_start_time,\n",
    "                                           accu_val))\n",
    "    print('-' * 59)"
   ]
  },
  {
   "cell_type": "code",
   "execution_count": 21,
   "id": "8887b639",
   "metadata": {},
   "outputs": [
    {
     "name": "stdout",
     "output_type": "stream",
     "text": [
      "Checking the results of test dataset.\n",
      "test accuracy    0.850\n"
     ]
    }
   ],
   "source": [
    "print('Checking the results of test dataset.')\n",
    "accu_test = evaluate(test_dataloader)\n",
    "print('test accuracy {:8.3f}'.format(accu_test))"
   ]
  },
  {
   "cell_type": "markdown",
   "id": "4c91451b",
   "metadata": {},
   "source": [
    "### Here we are building the data which can be used to determine the Accuracy, Precision, Recall & F1 score\n",
    "This is a binary classification"
   ]
  },
  {
   "cell_type": "code",
   "execution_count": 22,
   "id": "13879406",
   "metadata": {},
   "outputs": [],
   "source": [
    "model.eval()\n",
    "predictedLabels=[]\n",
    "trueLabels=[]\n",
    "with torch.no_grad():\n",
    "    for idx, (label, text, offsets) in enumerate(test_dataloader):\n",
    "        predicted_label = model(text, offsets)\n",
    "        predictedLabels.append(predicted_label.argmax(1))\n",
    "        trueLabels.append(label)\n",
    "        "
   ]
  },
  {
   "cell_type": "code",
   "execution_count": 23,
   "id": "e3dfa7db",
   "metadata": {},
   "outputs": [],
   "source": [
    "## we have got a list of batches of results so merging them together in a single list\n",
    "import itertools\n",
    "flatTrueLabels=list(itertools.chain.from_iterable(trueLabels))\n",
    "flatPredictedLabels=list(itertools.chain.from_iterable(predictedLabels))"
   ]
  },
  {
   "cell_type": "code",
   "execution_count": 24,
   "id": "e3bb41fc",
   "metadata": {},
   "outputs": [
    {
     "data": {
      "text/plain": [
       "25000"
      ]
     },
     "execution_count": 24,
     "metadata": {},
     "output_type": "execute_result"
    }
   ],
   "source": [
    "# number of labels to evaluate\n",
    "len(flatPredictedLabels)"
   ]
  },
  {
   "cell_type": "code",
   "execution_count": 25,
   "id": "6d1d857f",
   "metadata": {},
   "outputs": [],
   "source": [
    "#bringing everything to cpu as we are planning to use the sklearn method to calculate the metrics. \n",
    "#The data should be on the cpu\n",
    "flatPredictedLabels=torch.stack(flatPredictedLabels).cpu()\n",
    "flatTrueLabels=torch.stack(flatTrueLabels).cpu()"
   ]
  },
  {
   "cell_type": "code",
   "execution_count": 26,
   "id": "b7a2c6bb",
   "metadata": {},
   "outputs": [],
   "source": [
    "from sklearn.metrics import precision_recall_fscore_support\n",
    "(prec,recall,f1,_)=precision_recall_fscore_support(flatTrueLabels, flatPredictedLabels, average='binary', zero_division=0)"
   ]
  },
  {
   "cell_type": "code",
   "execution_count": 27,
   "id": "1ec9c81c",
   "metadata": {},
   "outputs": [
    {
     "name": "stdout",
     "output_type": "stream",
     "text": [
      "Precision= 0.8434387010745941 Recall= 0.86024 F1= 0.8517565052081271\n"
     ]
    }
   ],
   "source": [
    "print(\"Precision=\",prec,\"Recall=\",recall,\"F1=\",f1)"
   ]
  },
  {
   "cell_type": "markdown",
   "id": "02491f87",
   "metadata": {},
   "source": [
    "The same thing can be done without using the SKLean api as well\n",
    "using the formulas\n",
    "\n",
    "* precision=TP/(TP+FP)\n",
    "\n",
    "* accuracy=(TP+TN)/(all samples)\n",
    "\n",
    "* recall=TP/(TP+FN)\n",
    "\n",
    "* F1=2*(Recall*Precision)/(Recall+Precision)"
   ]
  },
  {
   "cell_type": "code",
   "execution_count": 28,
   "id": "94672381",
   "metadata": {},
   "outputs": [
    {
     "name": "stdout",
     "output_type": "stream",
     "text": [
      "tensor(10753) tensor(1996) tensor(1747) tensor(10504)\n"
     ]
    }
   ],
   "source": [
    "##where \n",
    "TP=sum((flatPredictedLabels==1) & (flatPredictedLabels==flatTrueLabels))\n",
    "FP=sum((flatPredictedLabels==1) & (flatPredictedLabels!=flatTrueLabels))##this is the extra thing that we have predicted\n",
    "FN=sum((flatPredictedLabels==0) & (flatPredictedLabels!=flatTrueLabels))##this is the extra thing that we have predicted\n",
    "TN=sum((flatPredictedLabels==0) & (flatPredictedLabels==flatTrueLabels))##this is the extra thing that we have predicted\n",
    "print(TP,FP,FN,TN)"
   ]
  },
  {
   "cell_type": "code",
   "execution_count": 33,
   "id": "2559af89",
   "metadata": {},
   "outputs": [
    {
     "name": "stdout",
     "output_type": "stream",
     "text": [
      "Accuracy=  0.8502799868583679 Precision= 0.8434386849403381 Recall= 0.8602399826049805 F1= 0.8517564535140991\n"
     ]
    }
   ],
   "source": [
    "accuracy_manual=(TP+TN)/len(flatTrueLabels)\n",
    "precision_manual=(TP)/(TP+FP)\n",
    "recall_manual=TP/(TP+FN)\n",
    "F1_manual=2/((1/precision_manual) + (1/recall_manual))\n",
    "print(\"Accuracy= \",accuracy_manual.item(),\"Precision=\",precision_manual.item(),\"Recall=\",recall_manual.item(),\"F1=\",F1_manual.item())\n"
   ]
  }
 ],
 "metadata": {
  "kernelspec": {
   "display_name": "Python 3",
   "language": "python",
   "name": "python3"
  },
  "language_info": {
   "codemirror_mode": {
    "name": "ipython",
    "version": 3
   },
   "file_extension": ".py",
   "mimetype": "text/x-python",
   "name": "python",
   "nbconvert_exporter": "python",
   "pygments_lexer": "ipython3",
   "version": "3.7.1"
  }
 },
 "nbformat": 4,
 "nbformat_minor": 5
}
